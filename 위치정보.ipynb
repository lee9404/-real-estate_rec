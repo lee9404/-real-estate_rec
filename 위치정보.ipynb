{
 "cells": [
  {
   "cell_type": "code",
   "execution_count": 1,
   "id": "197656a4-0b69-4387-8fb5-a7b4e5f27ebd",
   "metadata": {},
   "outputs": [],
   "source": [
    "import requests"
   ]
  },
  {
   "cell_type": "code",
   "execution_count": 3,
   "id": "8b479fb2-82a8-4b3a-8dd3-f7e9634c3d91",
   "metadata": {},
   "outputs": [],
   "source": [
    "import numpy as np"
   ]
  },
  {
   "cell_type": "code",
   "execution_count": 5,
   "id": "80af976d-c6f9-4a01-88a5-de101c9a18f9",
   "metadata": {},
   "outputs": [],
   "source": [
    "import pandas as pd"
   ]
  },
  {
   "cell_type": "code",
   "execution_count": 7,
   "id": "7e9bc8e5-d1f2-4f8d-b6a2-86cc5cbe5b79",
   "metadata": {},
   "outputs": [],
   "source": [
    "keyword='경상북도 구미시'"
   ]
  },
  {
   "cell_type": "code",
   "execution_count": 8,
   "id": "ac915111-dda2-468e-b85d-eb68d799e16e",
   "metadata": {},
   "outputs": [],
   "source": [
    "url = 'https://m.land.naver.com/search/result/' + keyword + '#mapFullList'\n",
    "headers = {'User-Agent':\"Mozilla/5.0 (Macintosh; Intel Mac OS X 10_15_7) AppleWebKit/537.36 (KHTML, like Gecko) Chrome/106.0.0.0 Safari/537.36\"}"
   ]
  },
  {
   "cell_type": "code",
   "execution_count": 9,
   "id": "b9f9ec07-7119-44eb-9ba8-2823058e30e2",
   "metadata": {},
   "outputs": [],
   "source": [
    "res = requests.get(url, headers=headers)"
   ]
  },
  {
   "cell_type": "code",
   "execution_count": 10,
   "id": "45c77131-2485-4a18-9bda-111cfbde41e9",
   "metadata": {},
   "outputs": [
    {
     "name": "stdout",
     "output_type": "stream",
     "text": [
      "https://m.land.naver.com/map/36.119549:128.344188:12:4719000000/*/A1:B1:B2?imageUrl=https%3A%2F%2Fssl.pstatic.net%2Fstatic.land%2Fstatic%2Fspace%2F20231122&photoUrl=https%3A%2F%2Flandthumb-phinf.pstatic.net&myhouseUrl=https%3A%2F%2Fneo.land.naver.com&gladSdkUrl=https%3A%2F%2Fssl.pstatic.net%2Ftveta%2Flibs%2Fglad%2Fprod%2Fgfp-core.js&userAgent=Mozilla%2F5.0+%28Macintosh%3B+Intel+Mac+OS+X+10_15_7%29+AppleWebKit%2F537.36+%28KHTML%2C+like+Gecko%29+Chrome%2F106.0.0.0+Safari%2F537.36&isMobile=false&isAndroid=false&isLandApp=false&isNaverPay=false&isNaverPayHeader=false&isLandAndroidApp=false&isLandIosApp=false&rootPath=query#mapFullList\n"
     ]
    }
   ],
   "source": [
    "print(res.url)"
   ]
  },
  {
   "cell_type": "code",
   "execution_count": 11,
   "id": "250f4a37-b4e1-4eee-9adb-2d6c26a1f0b6",
   "metadata": {},
   "outputs": [],
   "source": [
    "main_url = res.url.split('?')[0]"
   ]
  },
  {
   "cell_type": "code",
   "execution_count": 12,
   "id": "0837e73b-211f-4190-a189-54aabd7b2e07",
   "metadata": {},
   "outputs": [],
   "source": [
    "lat = main_url.split('/')[4].split(':')[0] #위도"
   ]
  },
  {
   "cell_type": "code",
   "execution_count": 13,
   "id": "629fa933-fbd5-499d-a13c-bcf110a9bddc",
   "metadata": {},
   "outputs": [],
   "source": [
    "lon = main_url.split('/')[4].split(':')[1] #경도"
   ]
  },
  {
   "cell_type": "code",
   "execution_count": 14,
   "id": "645e7637-90bb-47eb-b859-39ec1366e5dc",
   "metadata": {},
   "outputs": [],
   "source": [
    "z = main_url.split('/')[4].split(':')[2]"
   ]
  },
  {
   "cell_type": "code",
   "execution_count": 15,
   "id": "57b8971b-8509-43bf-8176-5594df68dd40",
   "metadata": {},
   "outputs": [],
   "source": [
    "cortarNo = main_url.split('/')[4].split(':')[3] #지역코드"
   ]
  },
  {
   "cell_type": "code",
   "execution_count": 16,
   "id": "c5b64b80-a24f-46f3-89d4-cddffc82bfc8",
   "metadata": {},
   "outputs": [],
   "source": [
    "buildingType = 'APT' #아파트"
   ]
  },
  {
   "cell_type": "code",
   "execution_count": null,
   "id": "311db293-41c3-4cc4-b906-6e44eec3b8fe",
   "metadata": {},
   "outputs": [],
   "source": []
  }
 ],
 "metadata": {
  "kernelspec": {
   "display_name": "Python 3 (ipykernel)",
   "language": "python",
   "name": "python3"
  },
  "language_info": {
   "codemirror_mode": {
    "name": "ipython",
    "version": 3
   },
   "file_extension": ".py",
   "mimetype": "text/x-python",
   "name": "python",
   "nbconvert_exporter": "python",
   "pygments_lexer": "ipython3",
   "version": "3.12.1"
  }
 },
 "nbformat": 4,
 "nbformat_minor": 5
}
