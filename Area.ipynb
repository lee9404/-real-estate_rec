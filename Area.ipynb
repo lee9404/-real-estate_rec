{
 "cells": [
  {
   "cell_type": "code",
   "execution_count": 1,
   "id": "5e0d2202-ca6b-4e31-9b06-e61696e0c2dd",
   "metadata": {},
   "outputs": [],
   "source": [
    "import re"
   ]
  },
  {
   "cell_type": "code",
   "execution_count": 2,
   "id": "18e9bb11-8a7a-4532-a092-8d46b54aa432",
   "metadata": {},
   "outputs": [],
   "source": [
    "text = '220/191공급면적220.92㎡전용면적191.06㎡'"
   ]
  },
  {
   "cell_type": "code",
   "execution_count": 3,
   "id": "9b481db4-80d9-42a5-9570-a56611134fb6",
   "metadata": {},
   "outputs": [],
   "source": [
    "공급면적 = re.findall('공급면적(.*?)㎡', text)[0]"
   ]
  },
  {
   "cell_type": "code",
   "execution_count": 4,
   "id": "5965c108-f5f0-47d1-b889-3297e5226e15",
   "metadata": {},
   "outputs": [],
   "source": [
    "전용면적 = re.findall('전용면적(.*?)㎡', text)[0]"
   ]
  },
  {
   "cell_type": "code",
   "execution_count": 5,
   "id": "3288e66b-e4e8-4e2f-a165-93c37c29c0fa",
   "metadata": {},
   "outputs": [
    {
     "name": "stdout",
     "output_type": "stream",
     "text": [
      "공급면적:  220.92\n"
     ]
    }
   ],
   "source": [
    "print('공급면적: ', 공급면적) "
   ]
  },
  {
   "cell_type": "code",
   "execution_count": 6,
   "id": "f2fd17b5-a453-44ff-b0a5-7d9e92989af9",
   "metadata": {},
   "outputs": [
    {
     "name": "stdout",
     "output_type": "stream",
     "text": [
      "전용면적:  191.06\n"
     ]
    }
   ],
   "source": [
    "print('전용면적: ', 전용면적)"
   ]
  },
  {
   "cell_type": "code",
   "execution_count": null,
   "id": "54fd5fa2-dac8-40fc-a367-27237b481aca",
   "metadata": {},
   "outputs": [],
   "source": []
  }
 ],
 "metadata": {
  "kernelspec": {
   "display_name": "Python 3 (ipykernel)",
   "language": "python",
   "name": "python3"
  },
  "language_info": {
   "codemirror_mode": {
    "name": "ipython",
    "version": 3
   },
   "file_extension": ".py",
   "mimetype": "text/x-python",
   "name": "python",
   "nbconvert_exporter": "python",
   "pygments_lexer": "ipython3",
   "version": "3.12.1"
  }
 },
 "nbformat": 4,
 "nbformat_minor": 5
}
