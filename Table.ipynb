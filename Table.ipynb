{
 "cells": [
  {
   "cell_type": "code",
   "execution_count": 57,
   "id": "3076d2b0-0418-4d3f-bec1-bcb893ec74e0",
   "metadata": {},
   "outputs": [
    {
     "ename": "AttributeError",
     "evalue": "'NoneType' object has no attribute 'tbody'",
     "output_type": "error",
     "traceback": [
      "\u001b[1;31m---------------------------------------------------------------------------\u001b[0m",
      "\u001b[1;31mAttributeError\u001b[0m                            Traceback (most recent call last)",
      "Cell \u001b[1;32mIn[57], line 12\u001b[0m\n\u001b[0;32m      9\u001b[0m soup \u001b[38;5;241m=\u001b[39m BeautifulSoup(r\u001b[38;5;241m.\u001b[39mtext, \u001b[38;5;124m'\u001b[39m\u001b[38;5;124mlxml\u001b[39m\u001b[38;5;124m'\u001b[39m)\n\u001b[0;32m     11\u001b[0m table \u001b[38;5;241m=\u001b[39m soup\u001b[38;5;241m.\u001b[39mfind(\u001b[38;5;124m'\u001b[39m\u001b[38;5;124mtable\u001b[39m\u001b[38;5;124m'\u001b[39m)\n\u001b[1;32m---> 12\u001b[0m trs \u001b[38;5;241m=\u001b[39m \u001b[43mtable\u001b[49m\u001b[38;5;241;43m.\u001b[39;49m\u001b[43mtbody\u001b[49m\u001b[38;5;241m.\u001b[39mfind_all(\u001b[38;5;124m'\u001b[39m\u001b[38;5;124mtr\u001b[39m\u001b[38;5;124m'\u001b[39m)\n\u001b[0;32m     14\u001b[0m \u001b[38;5;66;03m# 거래, 종류, 확인일자, 매물명, 면적(㎡), 층, 매물가(만원), 연락처\u001b[39;00m\n\u001b[0;32m     15\u001b[0m \u001b[38;5;28;01mfor\u001b[39;00m tr \u001b[38;5;129;01min\u001b[39;00m trs[::\u001b[38;5;241m2\u001b[39m]:\n",
      "\u001b[1;31mAttributeError\u001b[0m: 'NoneType' object has no attribute 'tbody'"
     ]
    }
   ],
   "source": [
    "import re\n",
    "import pandas as pd\n",
    "from datetime import datetime\n",
    "from bs4 import BeautifulSoup\n",
    "import requests\n",
    "\n",
    "url = 'http://land.naver.com/article/articleList.nhn?rletTypeCd=A01&tradeTypeCd=A1&hscpTypeCd=A01%3AA03%3AA04&cortarNo=1168010600'\n",
    "r = requests.get(url)\n",
    "soup = BeautifulSoup(r.text, 'lxml')\n",
    "\n",
    "table = soup.find('table')\n",
    "trs = table.tbody.find_all('tr')\n",
    "\n",
    "# 거래, 종류, 확인일자, 매물명, 면적(㎡), 층, 매물가(만원), 연락처\n",
    "for tr in trs[::2]:\n",
    "    tds = tr.find_all('td')\n",
    "    cols = [' '.join(td.text.strip().split()) for td in tds]\n",
    "    \n",
    "    if '_thumb_image' not in tds[3]['class']: # 현장확인 날짜와 이미지가 없는 행\n",
    "        cols.insert(3, '')\n",
    "\n",
    "    거래 = cols[0]\n",
    "    종류 = cols[1]\n",
    "    확인일자 = datetime.strptime(cols[2], '%y.%m.%d.')\n",
    "    현장확인 = cols[3]\n",
    "    매물명 = cols[4]\n",
    "    면적 = cols[5]\n",
    "    공급면적 = re.findall('공급면적(.*?)㎡', 면적)[0].replace(',', '')\n",
    "    전용면적 = re.findall('전용면적(.*?)㎡', 면적)[0].replace(',', '')\n",
    "    공급면적 = float(공급면적)\n",
    "    전용면적 = float(전용면적)\n",
    "    층 = cols[6]\n",
    "    매물가 = int(cols[7].replace(',', '')) \n",
    "    연락처 = cols[8]\n",
    "        \n",
    "    print(거래, 종류, 확인일자, 현장확인, 매물명, 공급면적, 전용면적, 층, 매물가, 연락처)"
   ]
  },
  {
   "cell_type": "code",
   "execution_count": null,
   "id": "0051fdbd-c40e-4a87-9e2d-6fa62bac1dbc",
   "metadata": {},
   "outputs": [],
   "source": []
  }
 ],
 "metadata": {
  "kernelspec": {
   "display_name": "Python 3 (ipykernel)",
   "language": "python",
   "name": "python3"
  },
  "language_info": {
   "codemirror_mode": {
    "name": "ipython",
    "version": 3
   },
   "file_extension": ".py",
   "mimetype": "text/x-python",
   "name": "python",
   "nbconvert_exporter": "python",
   "pygments_lexer": "ipython3",
   "version": "3.12.1"
  }
 },
 "nbformat": 4,
 "nbformat_minor": 5
}
